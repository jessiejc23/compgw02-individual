{
 "cells": [
  {
   "cell_type": "code",
   "execution_count": 2,
   "metadata": {},
   "outputs": [],
   "source": [
    "import numpy as np\n",
    "import pandas as pd\n",
    "from sklearn.ensemble import AdaBoostClassifier\n",
    "from sklearn import model_selection\n",
    "from sklearn.metrics import roc_auc_score"
   ]
  },
  {
   "cell_type": "code",
   "execution_count": 3,
   "metadata": {},
   "outputs": [],
   "source": [
    "train = pd.read_csv('example/data/train.csv')\n",
    "val = pd.read_csv('example/data/jessie/val.csv')"
   ]
  },
  {
   "cell_type": "code",
   "execution_count": 4,
   "metadata": {},
   "outputs": [],
   "source": [
    "val2 = val.drop(['click'],axis = 1)"
   ]
  },
  {
   "cell_type": "code",
   "execution_count": 5,
   "metadata": {},
   "outputs": [],
   "source": [
    "def adaboost(x,y, t, s,split, l=1 ): \n",
    "    \n",
    "    seed = s\n",
    "    num_trees = t\n",
    "    kfold = model_selection.KFold(n_splits=split, random_state=seed)\n",
    "    model = AdaBoostClassifier(n_estimators=num_trees, random_state=seed, learning_rate= l)\n",
    "    #results = model_selection.cross_val_score(model, x, y, cv=kfold)\n",
    "    \n",
    "    model.fit(x,y)\n",
    "    #probability_train=[]\n",
    "    #probability_test=[]\n",
    "    #probability_train.append(model.predict_proba(x))\n",
    "    #probability_test.append(model.predict_proba(val2))\n",
    "    print(roc_auc_score(val['click'], model.predict_proba(val2)[:,1]))\n",
    "    val['target'] = model.predict_proba(val2)[:,1]\n",
    "    #print(probability_test)\n",
    "    #print(results.mean())\n",
    "    return val"
   ]
  },
  {
   "cell_type": "code",
   "execution_count": 6,
   "metadata": {},
   "outputs": [],
   "source": [
    "y = np.ravel(train[['click']])\n",
    "x = train.drop(columns = ['click'])"
   ]
  },
  {
   "cell_type": "raw",
   "metadata": {},
   "source": [
    "split_list = [30,40,50]\n",
    "\n",
    "for s in split_list:\n",
    "    print(s)\n",
    "    adaboost(x,y,50,42,s)"
   ]
  },
  {
   "cell_type": "code",
   "execution_count": 7,
   "metadata": {},
   "outputs": [],
   "source": [
    "val_pp = pd.read_csv('validation.csv')"
   ]
  },
  {
   "cell_type": "code",
   "execution_count": 8,
   "metadata": {},
   "outputs": [
    {
     "name": "stdout",
     "output_type": "stream",
     "text": [
      "0.7482717609776208\n"
     ]
    }
   ],
   "source": [
    "val_pctr = adaboost(x,y,50,42,150)"
   ]
  },
  {
   "cell_type": "code",
   "execution_count": 9,
   "metadata": {},
   "outputs": [],
   "source": [
    "val_pctr['bidprice'] = val_pp['bidprice']\n",
    "val_pctr['payprice'] = val_pp['payprice']"
   ]
  },
  {
   "cell_type": "code",
   "execution_count": 10,
   "metadata": {},
   "outputs": [
    {
     "data": {
      "text/html": [
       "<div>\n",
       "<style scoped>\n",
       "    .dataframe tbody tr th:only-of-type {\n",
       "        vertical-align: middle;\n",
       "    }\n",
       "\n",
       "    .dataframe tbody tr th {\n",
       "        vertical-align: top;\n",
       "    }\n",
       "\n",
       "    .dataframe thead th {\n",
       "        text-align: right;\n",
       "    }\n",
       "</style>\n",
       "<table border=\"1\" class=\"dataframe\">\n",
       "  <thead>\n",
       "    <tr style=\"text-align: right;\">\n",
       "      <th></th>\n",
       "      <th>click</th>\n",
       "      <th>weekday</th>\n",
       "      <th>hour</th>\n",
       "      <th>region</th>\n",
       "      <th>city</th>\n",
       "      <th>adexchange</th>\n",
       "      <th>slotwidth</th>\n",
       "      <th>slotheight</th>\n",
       "      <th>slotprice</th>\n",
       "      <th>advertiser</th>\n",
       "      <th>...</th>\n",
       "      <th>browser_ie</th>\n",
       "      <th>browser_maxthon</th>\n",
       "      <th>browser_opera</th>\n",
       "      <th>browser_other</th>\n",
       "      <th>browser_safari</th>\n",
       "      <th>browser_sogou</th>\n",
       "      <th>browser_theworld</th>\n",
       "      <th>target</th>\n",
       "      <th>bidprice</th>\n",
       "      <th>payprice</th>\n",
       "    </tr>\n",
       "  </thead>\n",
       "  <tbody>\n",
       "    <tr>\n",
       "      <th>0</th>\n",
       "      <td>0</td>\n",
       "      <td>4</td>\n",
       "      <td>20</td>\n",
       "      <td>79</td>\n",
       "      <td>79</td>\n",
       "      <td>1</td>\n",
       "      <td>160</td>\n",
       "      <td>600</td>\n",
       "      <td>0</td>\n",
       "      <td>1458</td>\n",
       "      <td>...</td>\n",
       "      <td>1</td>\n",
       "      <td>0</td>\n",
       "      <td>0</td>\n",
       "      <td>0</td>\n",
       "      <td>0</td>\n",
       "      <td>0</td>\n",
       "      <td>0</td>\n",
       "      <td>0.473492</td>\n",
       "      <td>300</td>\n",
       "      <td>23</td>\n",
       "    </tr>\n",
       "    <tr>\n",
       "      <th>1</th>\n",
       "      <td>0</td>\n",
       "      <td>1</td>\n",
       "      <td>21</td>\n",
       "      <td>79</td>\n",
       "      <td>79</td>\n",
       "      <td>1</td>\n",
       "      <td>950</td>\n",
       "      <td>90</td>\n",
       "      <td>0</td>\n",
       "      <td>3476</td>\n",
       "      <td>...</td>\n",
       "      <td>0</td>\n",
       "      <td>0</td>\n",
       "      <td>0</td>\n",
       "      <td>0</td>\n",
       "      <td>0</td>\n",
       "      <td>0</td>\n",
       "      <td>0</td>\n",
       "      <td>0.470503</td>\n",
       "      <td>238</td>\n",
       "      <td>75</td>\n",
       "    </tr>\n",
       "    <tr>\n",
       "      <th>2</th>\n",
       "      <td>0</td>\n",
       "      <td>4</td>\n",
       "      <td>8</td>\n",
       "      <td>2</td>\n",
       "      <td>2</td>\n",
       "      <td>2</td>\n",
       "      <td>300</td>\n",
       "      <td>250</td>\n",
       "      <td>5</td>\n",
       "      <td>3358</td>\n",
       "      <td>...</td>\n",
       "      <td>1</td>\n",
       "      <td>0</td>\n",
       "      <td>0</td>\n",
       "      <td>0</td>\n",
       "      <td>0</td>\n",
       "      <td>0</td>\n",
       "      <td>0</td>\n",
       "      <td>0.471818</td>\n",
       "      <td>238</td>\n",
       "      <td>65</td>\n",
       "    </tr>\n",
       "    <tr>\n",
       "      <th>3</th>\n",
       "      <td>0</td>\n",
       "      <td>5</td>\n",
       "      <td>15</td>\n",
       "      <td>201</td>\n",
       "      <td>205</td>\n",
       "      <td>2</td>\n",
       "      <td>336</td>\n",
       "      <td>280</td>\n",
       "      <td>5</td>\n",
       "      <td>3358</td>\n",
       "      <td>...</td>\n",
       "      <td>0</td>\n",
       "      <td>0</td>\n",
       "      <td>0</td>\n",
       "      <td>0</td>\n",
       "      <td>0</td>\n",
       "      <td>0</td>\n",
       "      <td>0</td>\n",
       "      <td>0.469955</td>\n",
       "      <td>238</td>\n",
       "      <td>6</td>\n",
       "    </tr>\n",
       "    <tr>\n",
       "      <th>4</th>\n",
       "      <td>0</td>\n",
       "      <td>1</td>\n",
       "      <td>18</td>\n",
       "      <td>134</td>\n",
       "      <td>135</td>\n",
       "      <td>2</td>\n",
       "      <td>200</td>\n",
       "      <td>200</td>\n",
       "      <td>5</td>\n",
       "      <td>3476</td>\n",
       "      <td>...</td>\n",
       "      <td>0</td>\n",
       "      <td>0</td>\n",
       "      <td>0</td>\n",
       "      <td>0</td>\n",
       "      <td>0</td>\n",
       "      <td>0</td>\n",
       "      <td>0</td>\n",
       "      <td>0.472446</td>\n",
       "      <td>249</td>\n",
       "      <td>5</td>\n",
       "    </tr>\n",
       "  </tbody>\n",
       "</table>\n",
       "<p>5 rows × 35 columns</p>\n",
       "</div>"
      ],
      "text/plain": [
       "   click  weekday  hour  region  city  adexchange  slotwidth  slotheight  \\\n",
       "0      0        4    20      79    79           1        160         600   \n",
       "1      0        1    21      79    79           1        950          90   \n",
       "2      0        4     8       2     2           2        300         250   \n",
       "3      0        5    15     201   205           2        336         280   \n",
       "4      0        1    18     134   135           2        200         200   \n",
       "\n",
       "   slotprice  advertiser    ...     browser_ie  browser_maxthon  \\\n",
       "0          0        1458    ...              1                0   \n",
       "1          0        3476    ...              0                0   \n",
       "2          5        3358    ...              1                0   \n",
       "3          5        3358    ...              0                0   \n",
       "4          5        3476    ...              0                0   \n",
       "\n",
       "   browser_opera  browser_other  browser_safari  browser_sogou  \\\n",
       "0              0              0               0              0   \n",
       "1              0              0               0              0   \n",
       "2              0              0               0              0   \n",
       "3              0              0               0              0   \n",
       "4              0              0               0              0   \n",
       "\n",
       "   browser_theworld    target  bidprice  payprice  \n",
       "0                 0  0.473492       300        23  \n",
       "1                 0  0.470503       238        75  \n",
       "2                 0  0.471818       238        65  \n",
       "3                 0  0.469955       238         6  \n",
       "4                 0  0.472446       249         5  \n",
       "\n",
       "[5 rows x 35 columns]"
      ]
     },
     "execution_count": 10,
     "metadata": {},
     "output_type": "execute_result"
    }
   ],
   "source": [
    "val_pctr.head()"
   ]
  },
  {
   "cell_type": "code",
   "execution_count": 10,
   "metadata": {},
   "outputs": [],
   "source": [
    "val_pctr.to_csv('val_adaboost.csv')"
   ]
  },
  {
   "cell_type": "markdown",
   "metadata": {},
   "source": [
    "# Linear bidding"
   ]
  },
  {
   "cell_type": "code",
   "execution_count": 11,
   "metadata": {},
   "outputs": [],
   "source": [
    "avg_ctr = np.mean(val_pctr['click'])"
   ]
  },
  {
   "cell_type": "code",
   "execution_count": 12,
   "metadata": {},
   "outputs": [],
   "source": [
    "def ad1_spend(x,df):\n",
    "    clicks=0\n",
    "    budget=6250000\n",
    "    #avg_ctr=df3['click'].sum()/len(df3)\n",
    "    df['bid']=x*df['target']/avg_ctr\n",
    "    for i in range(len(df)):\n",
    "        #print(i)\n",
    "        y = df['payprice'].iloc[i]\n",
    "        b=df['bid'].iloc[i]\n",
    "        if budget <= y:\n",
    "            break\n",
    "        if (b>=y and b >=df['slotprice'].iloc[i]):\n",
    "            budget -= df['payprice'].iloc[i]\n",
    "            clicks += df['click'].iloc[i]\n",
    "    spend = 6250000-budget\n",
    "    return clicks,spend"
   ]
  },
  {
   "cell_type": "code",
   "execution_count": 20,
   "metadata": {},
   "outputs": [
    {
     "name": "stdout",
     "output_type": "stream",
     "text": [
      "0.12\n",
      "clicks: 67\n",
      "spend: 6249786\n",
      "0.125\n",
      "clicks: 68\n",
      "spend: 6249904\n",
      "0.13\n",
      "clicks: 66\n",
      "spend: 6249972\n",
      "0.135\n",
      "clicks: 66\n",
      "spend: 6249904\n",
      "0.14\n",
      "clicks: 63\n",
      "spend: 6249994\n",
      "[6249786, 6249904, 6249972, 6249904, 6249994]\n",
      "[67, 68, 66, 66, 63]\n"
     ]
    }
   ],
   "source": [
    "sp3_tr=[]\n",
    "c3_tr=[]\n",
    "ad3=val_pctr.copy()\n",
    "range_bid_base=np.arange(0.12,0.14,0.005)\n",
    "for bid_base in range_bid_base:\n",
    "    print(bid_base)\n",
    "    a, b = ad1_spend(bid_base,ad3)\n",
    "    c3_tr.append(a)\n",
    "    sp3_tr.append(b)\n",
    "    print('clicks:',a)\n",
    "    print('spend:',b)\n",
    "print(sp3_tr)\n",
    "print(c3_tr)"
   ]
  },
  {
   "cell_type": "code",
   "execution_count": 49,
   "metadata": {},
   "outputs": [],
   "source": [
    "import matplotlib.pyplot as plt"
   ]
  },
  {
   "cell_type": "code",
   "execution_count": 50,
   "metadata": {},
   "outputs": [],
   "source": [
    "ab_lin = pd.DataFrame({'base_bid': range_bid_base,'clicks': c3_tr})\n",
    "ab_lin = ab_lin.set_index('base_bid')"
   ]
  },
  {
   "cell_type": "code",
   "execution_count": 51,
   "metadata": {},
   "outputs": [
    {
     "data": {
      "image/png": "[encoded data removed]",
      "text/plain": [
       "<matplotlib.figure.Figure at 0x7f5667304b38>"
      ]
     },
     "metadata": {},
     "output_type": "display_data"
    }
   ],
   "source": [
    "#dfm_lin = pd.DataFrame({'base_bid': range_bid_base,'clicks': c3_tr})\n",
    "ab_lin['clicks'].plot()\n",
    "plt.show()"
   ]
  },
  {
   "cell_type": "code",
   "execution_count": null,
   "metadata": {},
   "outputs": [],
   "source": []
  },
  {
   "cell_type": "code",
   "execution_count": null,
   "metadata": {},
   "outputs": [],
   "source": []
  },
  {
   "cell_type": "markdown",
   "metadata": {},
   "source": [
    "# Range based bidding"
   ]
  },
  {
   "cell_type": "code",
   "execution_count": 54,
   "metadata": {},
   "outputs": [],
   "source": [
    "train_one = val_pctr[val_pctr['click']==1]"
   ]
  },
  {
   "cell_type": "code",
   "execution_count": 55,
   "metadata": {},
   "outputs": [
    {
     "data": {
      "image/png": "[encoded data removed]",
      "text/plain": [
       "<matplotlib.figure.Figure at 0x7f56653a9b38>"
      ]
     },
     "metadata": {},
     "output_type": "display_data"
    }
   ],
   "source": [
    "import matplotlib.pyplot as plt\n",
    "x = train_one['target']\n",
    "y = train_one['payprice']\n",
    "plt.scatter(x, y)\n",
    "plt.show()"
   ]
  },
  {
   "cell_type": "code",
   "execution_count": 56,
   "metadata": {},
   "outputs": [
    {
     "name": "stdout",
     "output_type": "stream",
     "text": [
      "0.47 - 0.4705 : 0.8 : 218\n",
      "0.4705 - 0.471 : 0.8 : 231\n",
      "0.471 - 0.4715 : 0.8 : 101\n",
      "0.4715 - 0.472 : 0.8 : 133\n",
      "0.472 - 0.4725 : 0.8 : 172\n",
      "0.4725 - 0.473 : 0.8 : 247\n",
      "0.473 - 0.4735 : 0.8 : 142\n",
      "0.473 - 0.47309999999999997 : 1.0 : 84\n",
      "0.47309999999999997 - 0.47319999999999995 : 1.0 : 50\n",
      "0.47319999999999995 - 0.47329999999999994 : 1.0 : 160\n",
      "0.47329999999999994 - 0.47339999999999993 : 1.0 : 31\n",
      "0.47339999999999993 - 0.4734999999999999 : 1.0 : 80\n",
      "0.4734999999999999 - 0.4735999999999999 : 1.0 : 215\n",
      "0.4735999999999999 - 0.4736999999999999 : 1.0 : 30\n",
      "0.4736999999999999 - 0.4737999999999999 : 1.0 : 217\n",
      "0.4737999999999999 - 0.4738999999999999 : 1.0 : 300\n",
      "0.4738999999999999 - 0.47399999999999987 : 1.0 : 50\n",
      "0.47399999999999987 - 0.47409999999999985 : 1.0 : 73\n",
      "0.475 - 0.4755 : 1.0 : 253\n",
      "0.4755 - 0.476 : 1.0 : 221\n",
      "0.476 - 0.4765 : 1.0 : 254\n",
      "0.4765 - 0.477 : 1.0 : 248\n",
      "0.477 - 0.4775 : 1.0 : 182\n",
      "0.4775 - 0.478 : 1.0 : 124\n",
      "0.4785 - 0.479 : 1.0 : 112\n",
      "0.479 - 0.4795 : 1.0 : 95\n",
      "0.4795 - 0.48 : 1.0 : 160\n",
      "0.48 - 0.4805 : 1.0 : 169\n",
      "0.48 - 0.485 : 1.0 : 282\n",
      "0.485 - 0.49 : 1.0 : 248\n",
      "0.49 - 0.495 : 1.0 : 225\n"
     ]
    }
   ],
   "source": [
    "for i in np.arange(0.47,0.473,0.0005):\n",
    "    train_two =train_one[train_one['target']>i]\n",
    "    a = np.sort(train_two[train_two['target']<= i + 0.0005].reset_index()['payprice'])\n",
    "    #print(a)\n",
    "    if (len(a) == 0):\n",
    "        continue\n",
    "    elif (len(a) <= 2):\n",
    "        print(i, '-', i+0.0005, \":\", \"0.8\", \":\", a[len(a)-1])\n",
    "    else:\n",
    "        print(i, '-', i+0.0005, \":\", \"0.8\", \":\", a[round(len(a)*0.8)])\n",
    "\n",
    "for i in np.arange(0.473,0.474,0.0001):\n",
    "    train_two =train_one[train_one['target']>i]\n",
    "    a = np.sort(train_two[train_two['target']<= i + 0.0001].reset_index()['payprice'])\n",
    "    #print(a)\n",
    "    if (len(a) == 0):\n",
    "        continue\n",
    "    else:\n",
    "        print(i, '-', i+0.0001, \":\", \"1.0\", \":\", a[len(a)-1])\n",
    "        \n",
    "for i in np.arange(0.475,0.48,0.0005):\n",
    "    train_two =train_one[train_one['target']>i]\n",
    "    a = np.sort(train_two[train_two['target']<= i + 0.0005].reset_index()['payprice'])\n",
    "    if (len(a) == 0):\n",
    "        continue\n",
    "    else:\n",
    "        print(i, '-', i+0.0005, \":\", \"1.0\", \":\", a[len(a)-1])\n",
    "\n",
    "for i in np.arange(0.48,0.50,0.005):\n",
    "    train_two =train_one[train_one['target']>i]\n",
    "    a = np.sort(train_two[train_two['target']<= i + 0.005].reset_index()['payprice'])\n",
    "    #print(a)\n",
    "    if (len(a) == 0):\n",
    "        continue\n",
    "    else:\n",
    "        print(i, '-', i+0.005, \":\", \"1.0\", \":\", a[len(a)-1])"
   ]
  },
  {
   "cell_type": "code",
   "execution_count": 60,
   "metadata": {},
   "outputs": [],
   "source": [
    "\n",
    "def fill_bid(x,target):\n",
    "    val['bid']=\"\"\n",
    "    bid = 0\n",
    "    if (target > 0.49):\n",
    "        bid = 230\n",
    "    elif (target >= 0.485):\n",
    "        bid = 250\n",
    "    elif (target >= 0.48):\n",
    "        bid= 285\n",
    "    elif (target >= 0.4795):\n",
    "        bid = 161\n",
    "    elif (target >= 0.479):\n",
    "        bid = 96\n",
    "    #elif (target >= 0.019):\n",
    "       # bid = 55\n",
    "    elif (target >= 0.4785):\n",
    "        bid = 115\n",
    "    #elif (target >= 0.017):\n",
    "     #   bid = 120\n",
    "    elif (target >= 0.4775):\n",
    "        bid = 125\n",
    "    elif (target >= 0.477):\n",
    "        bid = 185\n",
    "    elif (target >= 0.4765):\n",
    "        bid = 250\n",
    "    elif (target >= 0.476):\n",
    "        bid = 255\n",
    "   # elif (target >= 0.012):\n",
    "     #   bid = 125\n",
    "    elif (target >= 0.4755):\n",
    "        bid = 225\n",
    "    elif (target >= 0.475):\n",
    "        bid = 255\n",
    "    elif (target >= x): #0.473\n",
    "        bid = 75 #220 - 94 #150 -99 100-107 80-114 50-121 75-127\n",
    "   # elif (target >= x): #0.473\n",
    "    #    bid = 75\n",
    "    else:\n",
    "        bid = 0\n",
    "    return bid"
   ]
  },
  {
   "cell_type": "code",
   "execution_count": 61,
   "metadata": {},
   "outputs": [],
   "source": [
    "def final_spend(df):\n",
    "    clicks=0\n",
    "    budget=6250000\n",
    "    for i in range(len(df)):\n",
    "        y = df['payprice'].iloc[i]\n",
    "        b=df['bid'].iloc[i]\n",
    "        if budget <= y:\n",
    "            print(\"cutoff \"+ str(i))\n",
    "            break\n",
    "        if (b>=y and b >=df['slotprice'].iloc[i]):\n",
    "            budget -= df['payprice'].iloc[i]\n",
    "            clicks += df['click'].iloc[i]\n",
    "    spend = 6250000-budget\n",
    "    print(clicks)\n",
    "    print(spend)\n",
    "    return clicks"
   ]
  },
  {
   "cell_type": "code",
   "execution_count": 70,
   "metadata": {},
   "outputs": [
    {
     "name": "stdout",
     "output_type": "stream",
     "text": [
      "0.472\n",
      "cutoff 263302\n",
      "110\n",
      "6249877\n",
      "0.4725\n",
      "cutoff 282639\n",
      "113\n",
      "6249976\n",
      "0.473\n",
      "120\n",
      "5838377\n",
      "0.474\n",
      "115\n",
      "5495375\n"
     ]
    }
   ],
   "source": [
    "range_cut = np.arange(0.472,0.474,0.0005)\n",
    "y = []\n",
    "for r in range_cut:\n",
    "    print(r)\n",
    "    val['bid'] = val.apply(lambda row: fill_bid(r, row['target']), axis=1)\n",
    "    y.append(final_spend(val))"
   ]
  },
  {
   "cell_type": "code",
   "execution_count": 75,
   "metadata": {},
   "outputs": [
    {
     "data": {
      "image/png": "[encoded data removed]",
      "text/plain": [
       "<matplotlib.figure.Figure at 0x7f5672f96ac8>"
      ]
     },
     "metadata": {},
     "output_type": "display_data"
    }
   ],
   "source": [
    "ab_rbb = pd.DataFrame({'cut-off': range_cut,'clicks': y})\n",
    "ab_rbb = ab_rbb.set_index('cut-off')\n",
    "ab_rbb.plot(figsize=(8,5))\n",
    "plt.show()"
   ]
  },
  {
   "cell_type": "code",
   "execution_count": null,
   "metadata": {},
   "outputs": [],
   "source": []
  }
 ],
 "metadata": {
  "kernelspec": {
   "display_name": "Python [default]",
   "language": "python",
   "name": "python3"
  },
  "language_info": {
   "codemirror_mode": {
    "name": "ipython",
    "version": 3
   },
   "file_extension": ".py",
   "mimetype": "text/x-python",
   "name": "python",
   "nbconvert_exporter": "python",
   "pygments_lexer": "ipython3",
   "version": "3.6.4"
  }
 },
 "nbformat": 4,
 "nbformat_minor": 2
}
