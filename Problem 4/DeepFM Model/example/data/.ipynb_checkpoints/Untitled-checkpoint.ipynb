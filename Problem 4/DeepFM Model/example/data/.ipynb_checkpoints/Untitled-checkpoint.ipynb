{
 "cells": [
  {
   "cell_type": "code",
   "execution_count": 1,
   "metadata": {},
   "outputs": [],
   "source": [
    "import pandas as pd\n",
    "import numpy as np\n",
    "import gc"
   ]
  },
  {
   "cell_type": "code",
   "execution_count": 2,
   "metadata": {},
   "outputs": [],
   "source": [
    "train = pd.read_csv('train.csv')\n",
    "test = pd.read_csv('test.csv')"
   ]
  },
  {
   "cell_type": "code",
   "execution_count": 5,
   "metadata": {},
   "outputs": [],
   "source": [
    "def preprocess(df):\n",
    "    df = df.drop(['userid','domain','url','creative','keypage','IP','urlid','slotid','usertag','useragent','bidprice','payprice'],axis = 1)\n",
    "    df['slotvisibility'].replace(\n",
    "        to_replace=['1', 'FirstView'],\n",
    "        value='Above',\n",
    "        inplace=True\n",
    "    )\n",
    "\n",
    "    df['slotvisibility'].replace(\n",
    "        to_replace=['Na'],\n",
    "        value='Unknown',\n",
    "        inplace=True\n",
    "    )\n",
    "\n",
    "    df['slotvisibility'].replace(\n",
    "        to_replace=['OtherView', '2', '0','SecondView','ThirdView','FourthView','FifthView','255'],\n",
    "        value='Below',\n",
    "        inplace=True\n",
    "    )\n",
    "\n",
    "    df['slotformat'].replace(\n",
    "        to_replace=['1'],\n",
    "        value='Fixed',\n",
    "        inplace=True\n",
    "    )\n",
    "\n",
    "    df['slotformat'].replace(\n",
    "        to_replace=['Na'],\n",
    "        value='Unknown',\n",
    "        inplace=True\n",
    "    )\n",
    "\n",
    "    df['slotformat'].replace(\n",
    "        to_replace=['0'],\n",
    "        value='Pop',\n",
    "        inplace=True\n",
    "    )\n",
    "\n",
    "    df['slotformat'].replace(\n",
    "        to_replace=['5'],\n",
    "        value='Float',\n",
    "        inplace=True\n",
    "    )\n",
    "\n",
    "    df['adexchange'] = df['adexchange'].fillna(0)\n",
    "    df['adexchange'].replace(\n",
    "        to_replace=['null'],\n",
    "        value='0',\n",
    "        inplace=True\n",
    "    )\n",
    "    df[['adexchange']] = df[['adexchange']].astype(int)\n",
    "    df = pd.get_dummies(df)\n",
    "\n",
    "    return (df)"
   ]
  },
  {
   "cell_type": "code",
   "execution_count": 5,
   "metadata": {},
   "outputs": [],
   "source": [
    "def preprocess_test(df):\n",
    "    df = df.drop(['userid','domain','url','creative','keypage','IP','urlid','slotid','usertag','useragent'],axis = 1)\n",
    "    df['slotvisibility'].replace(\n",
    "        to_replace=['1', 'FirstView'],\n",
    "        value='Above',\n",
    "        inplace=True\n",
    "    )\n",
    "\n",
    "    df['slotvisibility'].replace(\n",
    "        to_replace=['Na'],\n",
    "        value='Unknown',\n",
    "        inplace=True\n",
    "    )\n",
    "\n",
    "    df['slotvisibility'].replace(\n",
    "        to_replace=['OtherView', '2', '0','SecondView','ThirdView','FourthView','FifthView','255'],\n",
    "        value='Below',\n",
    "        inplace=True\n",
    "    )\n",
    "\n",
    "    df['slotformat'].replace(\n",
    "        to_replace=['1'],\n",
    "        value='Fixed',\n",
    "        inplace=True\n",
    "    )\n",
    "\n",
    "    df['slotformat'].replace(\n",
    "        to_replace=['Na'],\n",
    "        value='Unknown',\n",
    "        inplace=True\n",
    "    )\n",
    "\n",
    "    df['slotformat'].replace(\n",
    "        to_replace=['0'],\n",
    "        value='Pop',\n",
    "        inplace=True\n",
    "    )\n",
    "\n",
    "    df['slotformat'].replace(\n",
    "        to_replace=['5'],\n",
    "        value='Float',\n",
    "        inplace=True\n",
    "    )\n",
    "\n",
    "    df['adexchange'] = df['adexchange'].fillna(0)\n",
    "    df['adexchange'].replace(\n",
    "        to_replace=['null'],\n",
    "        value='0',\n",
    "        inplace=True\n",
    "    )\n",
    "    df[['adexchange']] = df[['adexchange']].astype(int)\n",
    "    df = pd.get_dummies(df)\n",
    "\n",
    "    return (df)"
   ]
  },
  {
   "cell_type": "code",
   "execution_count": null,
   "metadata": {},
   "outputs": [],
   "source": []
  },
  {
   "cell_type": "code",
   "execution_count": 6,
   "metadata": {},
   "outputs": [
    {
     "ename": "ValueError",
     "evalue": "The truth value of a DataFrame is ambiguous. Use a.empty, a.bool(), a.item(), a.any() or a.all().",
     "output_type": "error",
     "traceback": [
      "\u001b[0;31m---------------------------------------------------------------------------\u001b[0m",
      "\u001b[0;31mValueError\u001b[0m                                Traceback (most recent call last)",
      "\u001b[0;32m<ipython-input-6-bdf0e256e549>\u001b[0m in \u001b[0;36m<module>\u001b[0;34m()\u001b[0m\n\u001b[0;32m----> 1\u001b[0;31m \u001b[0mdf_train_new\u001b[0m \u001b[0;34m=\u001b[0m \u001b[0mpreprocess\u001b[0m\u001b[0;34m(\u001b[0m\u001b[0mtrain\u001b[0m\u001b[0;34m)\u001b[0m\u001b[0;34m\u001b[0m\u001b[0m\n\u001b[0m\u001b[1;32m      2\u001b[0m \u001b[0;32mdel\u001b[0m \u001b[0mtrain\u001b[0m\u001b[0;34m\u001b[0m\u001b[0m\n",
      "\u001b[0;32m<ipython-input-5-e7fc47148b60>\u001b[0m in \u001b[0;36mpreprocess\u001b[0;34m(df)\u001b[0m\n\u001b[1;32m      1\u001b[0m \u001b[0;32mdef\u001b[0m \u001b[0mpreprocess\u001b[0m\u001b[0;34m(\u001b[0m\u001b[0mdf\u001b[0m\u001b[0;34m)\u001b[0m\u001b[0;34m:\u001b[0m\u001b[0;34m\u001b[0m\u001b[0m\n\u001b[0;32m----> 2\u001b[0;31m     \u001b[0;32mif\u001b[0m \u001b[0;34m(\u001b[0m\u001b[0mdf\u001b[0m \u001b[0;34m==\u001b[0m \u001b[0mtrain\u001b[0m\u001b[0;34m)\u001b[0m\u001b[0;34m:\u001b[0m\u001b[0;34m\u001b[0m\u001b[0m\n\u001b[0m\u001b[1;32m      3\u001b[0m         \u001b[0mdf\u001b[0m \u001b[0;34m=\u001b[0m \u001b[0mdf\u001b[0m\u001b[0;34m.\u001b[0m\u001b[0mdrop\u001b[0m\u001b[0;34m(\u001b[0m\u001b[0;34m[\u001b[0m\u001b[0;34m'userid'\u001b[0m\u001b[0;34m,\u001b[0m\u001b[0;34m'domain'\u001b[0m\u001b[0;34m,\u001b[0m\u001b[0;34m'url'\u001b[0m\u001b[0;34m,\u001b[0m\u001b[0;34m'creative'\u001b[0m\u001b[0;34m,\u001b[0m\u001b[0;34m'keypage'\u001b[0m\u001b[0;34m,\u001b[0m\u001b[0;34m'IP'\u001b[0m\u001b[0;34m,\u001b[0m\u001b[0;34m'urlid'\u001b[0m\u001b[0;34m,\u001b[0m\u001b[0;34m'slotid'\u001b[0m\u001b[0;34m,\u001b[0m\u001b[0;34m'usertag'\u001b[0m\u001b[0;34m,\u001b[0m\u001b[0;34m'useragent'\u001b[0m\u001b[0;34m,\u001b[0m\u001b[0;34m'bidprice'\u001b[0m\u001b[0;34m,\u001b[0m\u001b[0;34m'payprice'\u001b[0m\u001b[0;34m]\u001b[0m\u001b[0;34m,\u001b[0m\u001b[0maxis\u001b[0m \u001b[0;34m=\u001b[0m \u001b[0;36m1\u001b[0m\u001b[0;34m)\u001b[0m\u001b[0;34m\u001b[0m\u001b[0m\n\u001b[1;32m      4\u001b[0m     \u001b[0;32melif\u001b[0m \u001b[0;34m(\u001b[0m\u001b[0mdf\u001b[0m \u001b[0;34m==\u001b[0m \u001b[0mtest\u001b[0m\u001b[0;34m)\u001b[0m\u001b[0;34m:\u001b[0m\u001b[0;34m\u001b[0m\u001b[0m\n\u001b[1;32m      5\u001b[0m          \u001b[0mdf\u001b[0m \u001b[0;34m=\u001b[0m \u001b[0mdf\u001b[0m\u001b[0;34m.\u001b[0m\u001b[0mdrop\u001b[0m\u001b[0;34m(\u001b[0m\u001b[0;34m[\u001b[0m\u001b[0;34m'userid'\u001b[0m\u001b[0;34m,\u001b[0m\u001b[0;34m'domain'\u001b[0m\u001b[0;34m,\u001b[0m\u001b[0;34m'url'\u001b[0m\u001b[0;34m,\u001b[0m\u001b[0;34m'creative'\u001b[0m\u001b[0;34m,\u001b[0m\u001b[0;34m'keypage'\u001b[0m\u001b[0;34m,\u001b[0m\u001b[0;34m'IP'\u001b[0m\u001b[0;34m,\u001b[0m\u001b[0;34m'urlid'\u001b[0m\u001b[0;34m,\u001b[0m\u001b[0;34m'slotid'\u001b[0m\u001b[0;34m,\u001b[0m\u001b[0;34m'usertag'\u001b[0m\u001b[0;34m,\u001b[0m\u001b[0;34m'useragent'\u001b[0m\u001b[0;34m]\u001b[0m\u001b[0;34m,\u001b[0m\u001b[0maxis\u001b[0m \u001b[0;34m=\u001b[0m \u001b[0;36m1\u001b[0m\u001b[0;34m)\u001b[0m\u001b[0;34m\u001b[0m\u001b[0m\n",
      "\u001b[0;32m/Library/Frameworks/Python.framework/Versions/3.6/lib/python3.6/site-packages/pandas/core/generic.py\u001b[0m in \u001b[0;36m__nonzero__\u001b[0;34m(self)\u001b[0m\n\u001b[1;32m    953\u001b[0m         raise ValueError(\"The truth value of a {0} is ambiguous. \"\n\u001b[1;32m    954\u001b[0m                          \u001b[0;34m\"Use a.empty, a.bool(), a.item(), a.any() or a.all().\"\u001b[0m\u001b[0;34m\u001b[0m\u001b[0m\n\u001b[0;32m--> 955\u001b[0;31m                          .format(self.__class__.__name__))\n\u001b[0m\u001b[1;32m    956\u001b[0m \u001b[0;34m\u001b[0m\u001b[0m\n\u001b[1;32m    957\u001b[0m     \u001b[0m__bool__\u001b[0m \u001b[0;34m=\u001b[0m \u001b[0m__nonzero__\u001b[0m\u001b[0;34m\u001b[0m\u001b[0m\n",
      "\u001b[0;31mValueError\u001b[0m: The truth value of a DataFrame is ambiguous. Use a.empty, a.bool(), a.item(), a.any() or a.all()."
     ]
    }
   ],
   "source": [
    "df_train_new = preprocess(train)\n",
    "del train"
   ]
  },
  {
   "cell_type": "code",
   "execution_count": null,
   "metadata": {},
   "outputs": [],
   "source": [
    "df_test_new = preprocess(test)\n",
    "del test"
   ]
  },
  {
   "cell_type": "code",
   "execution_count": null,
   "metadata": {},
   "outputs": [],
   "source": [
    "gc.collect()"
   ]
  }
 ],
 "metadata": {
  "kernelspec": {
   "display_name": "Python 3",
   "language": "python",
   "name": "python3"
  },
  "language_info": {
   "codemirror_mode": {
    "name": "ipython",
    "version": 3
   },
   "file_extension": ".py",
   "mimetype": "text/x-python",
   "name": "python",
   "nbconvert_exporter": "python",
   "pygments_lexer": "ipython3",
   "version": "3.6.2"
  }
 },
 "nbformat": 4,
 "nbformat_minor": 2
}
